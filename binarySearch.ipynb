{
 "cells": [
  {
   "cell_type": "code",
   "execution_count": 23,
   "id": "73bcebae-3017-4c9a-bcc1-33bcc1565fe7",
   "metadata": {},
   "outputs": [
    {
     "name": "stdout",
     "output_type": "stream",
     "text": [
      "False\n"
     ]
    }
   ],
   "source": [
    "#!/usr/bin/env python3\n",
    "# -*- coding: UTF-8 -*-\n",
    "\"\"\"\n",
    "binarySearch.py: The BinarySearch module, which uses binary search algorithm\n",
    "\"\"\"\n",
    "def search(self, nums, target):\n",
    "    #Binary search using recurcion method\n",
    "    if [item for item in nums if item>=10000]: #Values must be smaller than 10000      \n",
    "        return False\n",
    "\n",
    "    # Check whether the items are unique\n",
    "    unique_list = []\n",
    "    for i in nums: \n",
    "        if i not in unique_list:\n",
    "            unique_list.append(i)\n",
    "    if len(nums)!=len(unique_list):\n",
    "        return False\n",
    "\n",
    "    lenght=len(nums)\n",
    "\n",
    "    # Check whether the variables are in ascending order\n",
    "    i=1\n",
    "    while i<lenght:\n",
    "        if nums[i-1]>nums[i]:\n",
    "            return False\n",
    "        else:\n",
    "            i+=1\n",
    "    low=0\n",
    "    high=lenght\n",
    "\n",
    "    if low>high:\n",
    "        return False\n",
    "    else:\n",
    "        mid = int((low + high) / 2)\n",
    "        if target == nums[mid]:\n",
    "            return mid\n",
    "        elif target > nums[mid]:       \n",
    "            return search(nums[mid+1:], target)\n",
    "        else:\n",
    "            return search(nums[:mid], target) \n",
    "                \n",
    "arr=[-1,0,3,5,9,12,1222224]\n",
    "search(arr,0)"
   ]
  }
 ],
 "metadata": {
  "kernelspec": {
   "display_name": "Python 3 (ipykernel)",
   "language": "python",
   "name": "python3"
  },
  "language_info": {
   "codemirror_mode": {
    "name": "ipython",
    "version": 3
   },
   "file_extension": ".py",
   "mimetype": "text/x-python",
   "name": "python",
   "nbconvert_exporter": "python",
   "pygments_lexer": "ipython3",
   "version": "3.9.12"
  }
 },
 "nbformat": 4,
 "nbformat_minor": 5
}
